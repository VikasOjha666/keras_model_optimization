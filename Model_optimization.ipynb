{
  "nbformat": 4,
  "nbformat_minor": 0,
  "metadata": {
    "colab": {
      "name": "Model optimization.ipynb",
      "provenance": [],
      "collapsed_sections": []
    },
    "kernelspec": {
      "name": "python3",
      "display_name": "Python 3"
    }
  },
  "cells": [
    {
      "cell_type": "code",
      "metadata": {
        "colab": {
          "base_uri": "https://localhost:8080/"
        },
        "id": "DCVX1DdQfGGd",
        "outputId": "1e9df418-72e8-456b-f4a7-a8b488ddbbd1"
      },
      "source": [
        "%tensorflow_version 1.x"
      ],
      "execution_count": 1,
      "outputs": [
        {
          "output_type": "stream",
          "text": [
            "TensorFlow 1.x selected.\n"
          ],
          "name": "stdout"
        }
      ]
    },
    {
      "cell_type": "code",
      "metadata": {
        "colab": {
          "base_uri": "https://localhost:8080/"
        },
        "id": "BlH4Fa8g9tyt",
        "outputId": "26f9cd1c-c87a-4212-82ca-eba96a8142b2"
      },
      "source": [
        "import tensorflow as tf\r\n",
        "print(tf.__version__)\r\n",
        "import keras"
      ],
      "execution_count": 2,
      "outputs": [
        {
          "output_type": "stream",
          "text": [
            "1.15.2\n"
          ],
          "name": "stdout"
        },
        {
          "output_type": "stream",
          "text": [
            "Using TensorFlow backend.\n"
          ],
          "name": "stderr"
        }
      ]
    },
    {
      "cell_type": "code",
      "metadata": {
        "colab": {
          "base_uri": "https://localhost:8080/"
        },
        "id": "u2Y7m457lyuY",
        "outputId": "f1f47605-024e-49e7-e99f-c00fff835a2c"
      },
      "source": [
        "from keras.datasets import mnist\r\n",
        "(X_train,y_train),(X_test,y_test)=mnist.load_data()"
      ],
      "execution_count": 3,
      "outputs": [
        {
          "output_type": "stream",
          "text": [
            "Downloading data from https://s3.amazonaws.com/img-datasets/mnist.npz\n",
            "11493376/11490434 [==============================] - 0s 0us/step\n"
          ],
          "name": "stdout"
        }
      ]
    },
    {
      "cell_type": "code",
      "metadata": {
        "id": "iy58Lq72l0WL"
      },
      "source": [
        "\r\n",
        "X_train=X_train/255\r\n",
        "X_test=X_test/255\r\n",
        "\r\n",
        "X_train=X_train.reshape(60000,28,28,1)\r\n",
        "X_test=X_test.reshape(10000,28,28,1)"
      ],
      "execution_count": 4,
      "outputs": []
    },
    {
      "cell_type": "code",
      "metadata": {
        "id": "m0yNVYjKl2q8"
      },
      "source": [
        "\r\n",
        "from keras.utils import to_categorical\r\n",
        "y_train=to_categorical(y_train,10)\r\n",
        "y_test=to_categorical(y_test,10)"
      ],
      "execution_count": 5,
      "outputs": []
    },
    {
      "cell_type": "code",
      "metadata": {
        "id": "ScXEpJbjl5g2"
      },
      "source": [
        "from keras.preprocessing.image import ImageDataGenerator\r\n",
        "datagen=ImageDataGenerator(width_shift_range=0.1,height_shift_range=0.1,zoom_range=0.2,shear_range=0.1,rotation_range=10)\r\n",
        "datagen.fit(X_train)"
      ],
      "execution_count": 6,
      "outputs": []
    },
    {
      "cell_type": "code",
      "metadata": {
        "id": "gJODhuGsl8uz",
        "colab": {
          "base_uri": "https://localhost:8080/"
        },
        "outputId": "55e9313b-625e-4ed2-e1c2-0c91b4dd3949"
      },
      "source": [
        "from keras.models import Sequential\r\n",
        "from keras.layers import Conv2D,MaxPooling2D,Dense,Flatten\r\n",
        "from keras.optimizers import Adam\r\n",
        "\r\n",
        "\r\n",
        "model=Sequential()\r\n",
        "model.add(Conv2D(filters=30,kernel_size=(3,3),input_shape=(28,28,1),activation='relu',name='input_1'))\r\n",
        "model.add(MaxPooling2D(pool_size=(2,2),name='pool_1'))\r\n",
        "\r\n",
        "model.add(Conv2D(filters=60,kernel_size=(3,3),activation='relu',name='Conv2'))\r\n",
        "model.add(MaxPooling2D(pool_size=(2,2),name='pool_2'))\r\n",
        "\r\n",
        "model.add(Flatten())\r\n",
        "\r\n",
        "model.add(Dense(512,activation='relu',name='dense_1'))\r\n",
        "model.add(Dense(10,activation='softmax',name='output'))\r\n",
        "\r\n",
        "adam=Adam(lr=0.001)\r\n",
        "\r\n",
        "model.compile(loss='categorical_crossentropy',optimizer=adam,metrics=['accuracy'])"
      ],
      "execution_count": 7,
      "outputs": [
        {
          "output_type": "stream",
          "text": [
            "WARNING:tensorflow:From /tensorflow-1.15.2/python3.6/tensorflow_core/python/ops/resource_variable_ops.py:1630: calling BaseResourceVariable.__init__ (from tensorflow.python.ops.resource_variable_ops) with constraint is deprecated and will be removed in a future version.\n",
            "Instructions for updating:\n",
            "If using Keras pass *_constraint arguments to layers.\n",
            "WARNING:tensorflow:From /tensorflow-1.15.2/python3.6/keras/backend/tensorflow_backend.py:4070: The name tf.nn.max_pool is deprecated. Please use tf.nn.max_pool2d instead.\n",
            "\n"
          ],
          "name": "stdout"
        }
      ]
    },
    {
      "cell_type": "code",
      "metadata": {
        "colab": {
          "base_uri": "https://localhost:8080/"
        },
        "id": "Xu_wE_tcmAe-",
        "outputId": "6dbfae31-187f-47c6-8905-ace9e58f5573"
      },
      "source": [
        "history=model.fit_generator(datagen.flow(X_train,y_train,batch_size=200),steps_per_epoch=500,epochs=2,validation_data=(X_test,y_test),shuffle=1)"
      ],
      "execution_count": 8,
      "outputs": [
        {
          "output_type": "stream",
          "text": [
            "WARNING:tensorflow:From /tensorflow-1.15.2/python3.6/keras/backend/tensorflow_backend.py:422: The name tf.global_variables is deprecated. Please use tf.compat.v1.global_variables instead.\n",
            "\n",
            "Epoch 1/2\n",
            "500/500 [==============================] - 108s 215ms/step - loss: 0.3043 - accuracy: 0.9051 - val_loss: 0.0479 - val_accuracy: 0.9839\n",
            "Epoch 2/2\n",
            "500/500 [==============================] - 108s 215ms/step - loss: 0.0969 - accuracy: 0.9701 - val_loss: 0.0383 - val_accuracy: 0.9870\n"
          ],
          "name": "stdout"
        }
      ]
    },
    {
      "cell_type": "code",
      "metadata": {
        "id": "dNhduO9lmHfG"
      },
      "source": [
        "model.save('digit.h5')"
      ],
      "execution_count": 9,
      "outputs": []
    },
    {
      "cell_type": "code",
      "metadata": {
        "colab": {
          "base_uri": "https://localhost:8080/",
          "height": 35
        },
        "id": "ClTGSbPhTkcJ",
        "outputId": "202a3126-8e94-4628-e3d4-843c8618ba8e"
      },
      "source": [
        "from keras.models import load_model\r\n",
        "model = load_model(\"digit.h5\")\r\n",
        "session = keras.backend.get_session()\r\n",
        "\r\n",
        "saver = tf.train.Saver()\r\n",
        "saver.save(session, \"digit.ckpt\")"
      ],
      "execution_count": 10,
      "outputs": [
        {
          "output_type": "execute_result",
          "data": {
            "application/vnd.google.colaboratory.intrinsic+json": {
              "type": "string"
            },
            "text/plain": [
              "'digit.ckpt'"
            ]
          },
          "metadata": {
            "tags": []
          },
          "execution_count": 10
        }
      ]
    },
    {
      "cell_type": "code",
      "metadata": {
        "colab": {
          "base_uri": "https://localhost:8080/"
        },
        "id": "IxEKyqebUDBP",
        "outputId": "4d935e33-7d2a-4821-cb7c-850ae892c43f"
      },
      "source": [
        "saver = tf.train.import_meta_graph('digit.ckpt.meta', clear_devices=True)\r\n",
        "graph = tf.get_default_graph()\r\n",
        "input_graph_def = graph.as_graph_def()\r\n",
        "sess = tf.Session()\r\n",
        "saver.restore(sess, \"./digit.ckpt\")"
      ],
      "execution_count": 11,
      "outputs": [
        {
          "output_type": "stream",
          "text": [
            "INFO:tensorflow:Restoring parameters from ./digit.ckpt\n"
          ],
          "name": "stdout"
        }
      ]
    },
    {
      "cell_type": "code",
      "metadata": {
        "colab": {
          "base_uri": "https://localhost:8080/"
        },
        "id": "Omm_f-GbdpHc",
        "outputId": "772b2aa0-d011-43e7-f5d2-f69de2ce6ea6"
      },
      "source": [
        "from keras import backend as K\r\n",
        "import tensorflow as tf\r\n",
        "K.set_learning_phase(0)\r\n",
        "def freeze_session(session, keep_var_names=None, output_names=None, clear_devices=True):\r\n",
        "    \"\"\"\r\n",
        "    Freezes the state of a session into a pruned computation graph.\r\n",
        "\r\n",
        "    Creates a new computation graph where variable nodes are replaced by\r\n",
        "    constants taking their current value in the session. The new graph will be\r\n",
        "    pruned so subgraphs that are not necessary to compute the requested\r\n",
        "    outputs are removed.\r\n",
        "    @param session The TensorFlow session to be frozen.\r\n",
        "    @param keep_var_names A list of variable names that should not be frozen,\r\n",
        "                          or None to freeze all the variables in the graph.\r\n",
        "    @param output_names Names of the relevant graph outputs.\r\n",
        "    @param clear_devices Remove the device directives from the graph for better portability.\r\n",
        "    @return The frozen graph definition.\r\n",
        "    \"\"\"\r\n",
        "    from tensorflow.python.framework.graph_util import convert_variables_to_constants\r\n",
        "    graph = session.graph\r\n",
        "    with graph.as_default():\r\n",
        "        freeze_var_names = list(set(v.op.name for v in tf.global_variables()).difference(keep_var_names or []))\r\n",
        "        output_names = output_names or []\r\n",
        "        output_names += [v.op.name for v in tf.global_variables()]\r\n",
        "        # Graph -> GraphDef ProtoBuf\r\n",
        "        input_graph_def = graph.as_graph_def()\r\n",
        "        if clear_devices:\r\n",
        "            for node in input_graph_def.node:\r\n",
        "                node.device = \"\"\r\n",
        "        frozen_graph = convert_variables_to_constants(session, input_graph_def,\r\n",
        "                                                      output_names, freeze_var_names)\r\n",
        "        return frozen_graph\r\n",
        "\r\n",
        "\r\n",
        "frozen_graph = freeze_session(sess,\r\n",
        "                              output_names=[out.op.name for out in model.outputs])"
      ],
      "execution_count": 12,
      "outputs": [
        {
          "output_type": "stream",
          "text": [
            "WARNING:tensorflow:From <ipython-input-12-cce56cccdd06>:31: convert_variables_to_constants (from tensorflow.python.framework.graph_util_impl) is deprecated and will be removed in a future version.\n",
            "Instructions for updating:\n",
            "Use `tf.compat.v1.graph_util.convert_variables_to_constants`\n",
            "WARNING:tensorflow:From /tensorflow-1.15.2/python3.6/tensorflow_core/python/framework/graph_util_impl.py:277: extract_sub_graph (from tensorflow.python.framework.graph_util_impl) is deprecated and will be removed in a future version.\n",
            "Instructions for updating:\n",
            "Use `tf.compat.v1.graph_util.extract_sub_graph`\n",
            "INFO:tensorflow:Froze 78 variables.\n",
            "INFO:tensorflow:Converted 78 variables to const ops.\n"
          ],
          "name": "stdout"
        }
      ]
    },
    {
      "cell_type": "code",
      "metadata": {
        "id": "DzVjz2kKhoNu"
      },
      "source": [
        "output_graph=\"digits.pb\"\r\n",
        "with tf.gfile.GFile(output_graph, \"wb\") as f:\r\n",
        "    f.write(frozen_graph.SerializeToString())\r\n",
        " \r\n"
      ],
      "execution_count": 13,
      "outputs": []
    },
    {
      "cell_type": "code",
      "metadata": {
        "colab": {
          "base_uri": "https://localhost:8080/"
        },
        "id": "aaWVMRlcmNdE",
        "outputId": "90df26d1-54ec-48c5-ff6e-c8802649f22a"
      },
      "source": [
        "model.summary()"
      ],
      "execution_count": 14,
      "outputs": [
        {
          "output_type": "stream",
          "text": [
            "Model: \"sequential_1\"\n",
            "_________________________________________________________________\n",
            "Layer (type)                 Output Shape              Param #   \n",
            "=================================================================\n",
            "input_1 (Conv2D)             (None, 26, 26, 30)        300       \n",
            "_________________________________________________________________\n",
            "pool_1 (MaxPooling2D)        (None, 13, 13, 30)        0         \n",
            "_________________________________________________________________\n",
            "Conv2 (Conv2D)               (None, 11, 11, 60)        16260     \n",
            "_________________________________________________________________\n",
            "pool_2 (MaxPooling2D)        (None, 5, 5, 60)          0         \n",
            "_________________________________________________________________\n",
            "flatten_1 (Flatten)          (None, 1500)              0         \n",
            "_________________________________________________________________\n",
            "dense_1 (Dense)              (None, 512)               768512    \n",
            "_________________________________________________________________\n",
            "output (Dense)               (None, 10)                5130      \n",
            "=================================================================\n",
            "Total params: 790,202\n",
            "Trainable params: 790,202\n",
            "Non-trainable params: 0\n",
            "_________________________________________________________________\n"
          ],
          "name": "stdout"
        }
      ]
    },
    {
      "cell_type": "code",
      "metadata": {
        "colab": {
          "base_uri": "https://localhost:8080/"
        },
        "id": "90pHnQF2tDXD",
        "outputId": "bf5eaa3a-326c-4f5e-d312-173db2c39766"
      },
      "source": [
        "print('Inputs:',model.inputs)\r\n",
        "print('Outputs:',model.outputs)"
      ],
      "execution_count": 15,
      "outputs": [
        {
          "output_type": "stream",
          "text": [
            "Inputs: [<tf.Tensor 'input_1_input_1:0' shape=(?, 28, 28, 1) dtype=float32>]\n",
            "Outputs: [<tf.Tensor 'output_1/Softmax:0' shape=(?, 10) dtype=float32>]\n"
          ],
          "name": "stdout"
        }
      ]
    },
    {
      "cell_type": "code",
      "metadata": {
        "id": "8uyEeec0h0CX"
      },
      "source": [
        "from tensorflow.tools.graph_transforms import TransformGraph\r\n",
        "TRANSFORMS=['remove_nodes(op=Indentity)','fold_constants(ignore_errors=True)','merge_duplicate_nodes',\r\n",
        "            'strip_unused_nodes','fold_batch_norms']\r\n",
        "optimized_graph_def=TransformGraph(frozen_graph,['input_1_input_1:0'],['output_1/Softmax:0'],TRANSFORMS)"
      ],
      "execution_count": 16,
      "outputs": []
    },
    {
      "cell_type": "code",
      "metadata": {
        "id": "NuXwkvcYtbgs"
      },
      "source": [
        "output_graph=\"digits_optimized.pb\"\r\n",
        "with tf.gfile.GFile(output_graph, \"wb\") as f:\r\n",
        "    f.write(optimized_graph_def.SerializeToString())\r\n",
        " \r\n"
      ],
      "execution_count": 17,
      "outputs": []
    },
    {
      "cell_type": "code",
      "metadata": {
        "id": "P7icQVppliOE"
      },
      "source": [
        "sess.close()"
      ],
      "execution_count": 18,
      "outputs": []
    },
    {
      "cell_type": "code",
      "metadata": {
        "id": "oTbQRn5BU0qe"
      },
      "source": [
        "frozen_graph=\"digits_optimized.pb\"\r\n",
        "with tf.gfile.GFile(frozen_graph, \"rb\") as f:\r\n",
        "      graph_def = tf.GraphDef()\r\n",
        "      graph_def.ParseFromString(f.read())\r\n",
        " \r\n",
        "with tf.Graph().as_default() as graph:\r\n",
        "      tf.import_graph_def(graph_def,\r\n",
        "                          input_map=None,\r\n",
        "                          return_elements=None,\r\n",
        "                          name=\"\")"
      ],
      "execution_count": 19,
      "outputs": []
    },
    {
      "cell_type": "code",
      "metadata": {
        "colab": {
          "base_uri": "https://localhost:8080/"
        },
        "id": "2Mpt4bnlVFH7",
        "outputId": "58d0109e-63ca-4568-c7ba-68f4b00f7140"
      },
      "source": [
        "y_pred = graph.get_tensor_by_name(\"output_1/Softmax:0\")\r\n",
        "## Let's feed the images to the input placeholders\r\n",
        "x= graph.get_tensor_by_name(\"input_1_input_1:0\")\r\n",
        "sess= tf.Session(graph=graph)\r\n",
        "### Creating the feed_dict that is required to be fed to calculate y_pred \r\n",
        "feed_dict_testing = {x: X_test[:20]}\r\n",
        "result=sess.run(y_pred, feed_dict=feed_dict_testing)\r\n",
        "print(result)"
      ],
      "execution_count": 20,
      "outputs": [
        {
          "output_type": "stream",
          "text": [
            "[[1.33368703e-08 2.60209049e-07 6.89802109e-05 1.90243245e-05\n",
            "  9.34931368e-11 5.88880084e-07 9.66818747e-13 9.99899745e-01\n",
            "  1.20574225e-06 1.01708274e-05]\n",
            " [1.05050976e-05 5.25212045e-06 9.99980688e-01 2.21065164e-07\n",
            "  1.93806358e-08 1.06841411e-11 1.48166168e-06 2.41437426e-09\n",
            "  1.84831003e-06 9.83309967e-09]\n",
            " [3.65540254e-05 9.99435008e-01 4.47676075e-06 6.78062548e-08\n",
            "  3.41784063e-04 1.06231173e-05 1.38230796e-04 2.24160158e-05\n",
            "  7.17951389e-06 3.67235089e-06]\n",
            " [6.32182777e-01 8.79646507e-08 3.17238184e-04 1.72659711e-04\n",
            "  8.57481427e-05 1.03434068e-04 3.54803234e-01 1.57919487e-06\n",
            "  8.51496030e-03 3.81818390e-03]\n",
            " [9.98329241e-09 2.53682817e-08 2.59795332e-08 1.11492771e-09\n",
            "  9.99834895e-01 3.08623327e-09 1.62089265e-07 1.39282463e-06\n",
            "  7.22342932e-08 1.63356439e-04]\n",
            " [8.83884059e-06 9.99932766e-01 2.25028288e-07 1.65674197e-09\n",
            "  2.04196749e-05 9.50581182e-07 2.80950790e-05 4.14373199e-06\n",
            "  3.93899018e-06 5.37471863e-07]\n",
            " [8.34610381e-10 5.07205755e-07 7.04906370e-07 1.51514943e-08\n",
            "  9.98639405e-01 1.41140617e-06 2.17108536e-07 1.10413919e-06\n",
            "  6.98436284e-04 6.58092613e-04]\n",
            " [3.24902452e-08 6.20267338e-06 4.61460586e-05 5.59348518e-05\n",
            "  1.87290847e-04 1.10050438e-04 2.21696439e-07 5.42579812e-07\n",
            "  1.17426328e-02 9.87850964e-01]\n",
            " [3.63097070e-06 1.45811851e-09 6.67033146e-06 6.93133916e-06\n",
            "  4.72056847e-08 9.91105735e-01 7.64571782e-03 8.95721044e-08\n",
            "  1.19744078e-03 3.37734200e-05]\n",
            " [4.83383866e-09 1.35717243e-10 3.77951733e-06 9.09398586e-05\n",
            "  1.54960780e-05 3.20431582e-07 2.93699676e-10 4.94607812e-05\n",
            "  2.59546010e-04 9.99580443e-01]\n",
            " [9.99966979e-01 2.14613201e-12 5.07488085e-06 2.00154879e-08\n",
            "  3.09799755e-11 1.23920085e-09 2.97370484e-08 2.57295518e-10\n",
            "  9.51047952e-09 2.79304859e-05]\n",
            " [1.58460971e-05 2.01455985e-13 5.53895996e-09 1.10124021e-09\n",
            "  1.02692404e-07 1.93762464e-08 9.99979258e-01 7.36917851e-13\n",
            "  3.89536353e-06 8.23572122e-07]\n",
            " [7.77665310e-09 1.69818992e-10 2.42989469e-08 1.35052619e-06\n",
            "  1.33907160e-05 4.97327619e-07 6.04910921e-09 2.29664124e-06\n",
            "  7.76308589e-05 9.99904871e-01]\n",
            " [9.98463392e-01 6.29857411e-09 9.97165216e-07 2.04428898e-06\n",
            "  2.28970247e-08 6.66667211e-06 1.07367596e-04 3.98146483e-07\n",
            "  5.49345241e-05 1.36417861e-03]\n",
            " [9.57509019e-06 9.99497890e-01 7.13987038e-06 1.19905417e-06\n",
            "  1.27173786e-04 1.10660858e-05 3.09764073e-05 1.16884057e-05\n",
            "  2.97599734e-04 5.61682918e-06]\n",
            " [1.11507553e-10 1.99113948e-09 2.68769340e-09 3.31378455e-04\n",
            "  5.48137212e-15 9.99653339e-01 4.17604014e-08 3.09594642e-14\n",
            "  1.52500079e-05 2.46531382e-08]\n",
            " [5.21593506e-07 1.34558309e-09 1.37437368e-07 8.45230090e-07\n",
            "  4.02882142e-05 1.23849213e-06 1.14003925e-07 3.32069205e-04\n",
            "  3.14162084e-04 9.99310613e-01]\n",
            " [6.89712181e-08 2.61740780e-08 4.12199617e-04 5.68354772e-05\n",
            "  2.35728277e-11 1.79370181e-06 6.33021359e-13 9.99515414e-01\n",
            "  8.17850321e-07 1.28879783e-05]\n",
            " [2.74403224e-04 3.24569032e-06 3.87096632e-04 2.07434371e-01\n",
            "  1.82452755e-08 5.52410260e-02 9.62594731e-06 1.34617952e-08\n",
            "  7.34954894e-01 1.69533631e-03]\n",
            " [1.11404685e-09 1.00113743e-06 6.65551738e-07 9.82183224e-10\n",
            "  9.99948621e-01 8.12407137e-08 4.09101819e-09 4.79577902e-05\n",
            "  2.26192640e-07 1.49561185e-06]]\n"
          ],
          "name": "stdout"
        }
      ]
    }
  ]
}